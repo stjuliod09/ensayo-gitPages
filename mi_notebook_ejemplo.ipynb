{
 "cells": [
  {
   "cell_type": "markdown",
   "id": "ee725bc8",
   "metadata": {},
   "source": [
    "# Mi Notebook de Ejemplo\n",
    "Este es un cuaderno que incluye código, texto en Markdown e imágenes integradas usando HTML."
   ]
  },
  {
   "cell_type": "markdown",
   "id": "4bd616b7",
   "metadata": {},
   "source": [
    "## Imagen con etiqueta HTML (Logo de Python)\n",
    "<img src=\"https://www.python.org/static/community_logos/python-logo.png\" alt=\"Logo Python\" width=\"200\"/>"
   ]
  },
  {
   "cell_type": "code",
   "execution_count": null,
   "id": "745ea3c5",
   "metadata": {},
   "outputs": [],
   "source": [
    "print('¡Hola desde el notebook!')\n",
    "for i in range(3):\n",
    "    print(f'Iteración {i}')"
   ]
  },
  {
   "cell_type": "markdown",
   "id": "fb17d76c",
   "metadata": {},
   "source": [
    "## Otra imagen con HTML (Logo de GitHub)\n",
    "<img src=\"https://github.githubassets.com/images/modules/logos_page/GitHub-Mark.png\" alt=\"Logo GitHub\" width=\"100\"/>"
   ]
  },
  {
   "cell_type": "code",
   "execution_count": null,
   "id": "9656c1f8",
   "metadata": {},
   "outputs": [],
   "source": [
    "import datetime\n",
    "print('Fecha y hora actual:', datetime.datetime.now())"
   ]
  }
 ],
 "metadata": {},
 "nbformat": 4,
 "nbformat_minor": 5
}
